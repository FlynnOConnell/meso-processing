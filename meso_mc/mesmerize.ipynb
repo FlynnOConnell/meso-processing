{
 "cells": [
  {
   "cell_type": "code",
   "execution_count": 8,
   "outputs": [],
   "source": [
    "from mesmerize_core import *\n",
    "import numpy as np\n",
    "from copy import deepcopy\n",
    "import pandas as pd\n",
    "from pathlib import Path\n",
    "import caiman as cm"
   ],
   "metadata": {
    "collapsed": false,
    "ExecuteTime": {
     "end_time": "2023-09-09T03:43:06.712936500Z",
     "start_time": "2023-09-09T03:43:06.679279900Z"
    }
   }
  },
  {
   "cell_type": "code",
   "execution_count": 9,
   "outputs": [],
   "source": [
    "collated = Path().home() / \"data\" / \"lbm\" / \"temp\"\n",
    "set_parent_raw_data_path(collated)\n",
    "batch_path = get_parent_raw_data_path().joinpath(\"output\")\n",
    "batch_path.mkdir(exist_ok=True)"
   ],
   "metadata": {
    "collapsed": false,
    "ExecuteTime": {
     "end_time": "2023-09-09T03:43:08.128382700Z",
     "start_time": "2023-09-09T03:43:08.041421600Z"
    }
   }
  },
  {
   "cell_type": "code",
   "execution_count": 10,
   "outputs": [],
   "source": [
    "movie_path = get_parent_raw_data_path()"
   ],
   "metadata": {
    "collapsed": false,
    "ExecuteTime": {
     "end_time": "2023-09-09T03:43:08.899169900Z",
     "start_time": "2023-09-09T03:43:08.883338Z"
    }
   }
  },
  {
   "cell_type": "code",
   "execution_count": 24,
   "outputs": [
    {
     "ename": "TypeError",
     "evalue": "load_memmap() got an unexpected keyword argument 'var_name_hdf5'",
     "output_type": "error",
     "traceback": [
      "\u001B[1;31m---------------------------------------------------------------------------\u001B[0m",
      "\u001B[1;31mTypeError\u001B[0m                                 Traceback (most recent call last)",
      "Cell \u001B[1;32mIn[24], line 2\u001B[0m\n\u001B[0;32m      1\u001B[0m movies_filenames \u001B[38;5;241m=\u001B[39m [x \u001B[38;5;28;01mfor\u001B[39;00m x \u001B[38;5;129;01min\u001B[39;00m movie_path\u001B[38;5;241m.\u001B[39miterdir() \u001B[38;5;28;01mif\u001B[39;00m x\u001B[38;5;241m.\u001B[39msuffix \u001B[38;5;241m==\u001B[39m \u001B[38;5;124m\"\u001B[39m\u001B[38;5;124m.h5\u001B[39m\u001B[38;5;124m\"\u001B[39m]\n\u001B[1;32m----> 2\u001B[0m movie \u001B[38;5;241m=\u001B[39m \u001B[43mcm\u001B[49m\u001B[38;5;241;43m.\u001B[39;49m\u001B[43mload_memmap\u001B[49m\u001B[43m(\u001B[49m\u001B[43mmovies_filenames\u001B[49m\u001B[43m,\u001B[49m\u001B[43m \u001B[49m\u001B[43mvar_name_hdf5\u001B[49m\u001B[38;5;241;43m=\u001B[39;49m\u001B[38;5;124;43m\"\u001B[39;49m\u001B[38;5;124;43mvol\u001B[39;49m\u001B[38;5;124;43m\"\u001B[39;49m\u001B[43m)\u001B[49m\n",
      "\u001B[1;31mTypeError\u001B[0m: load_memmap() got an unexpected keyword argument 'var_name_hdf5'"
     ]
    }
   ],
   "source": [
    "movies_filenames = [x for x in movie_path.iterdir() if x.suffix == \".h5\"]\n",
    "movie = cm.load(movies_filenames, var_name_hdf5=\"vol\")"
   ],
   "metadata": {
    "collapsed": false,
    "ExecuteTime": {
     "end_time": "2023-09-09T04:09:49.248075600Z",
     "start_time": "2023-09-09T04:09:49.189132700Z"
    }
   }
  },
  {
   "cell_type": "code",
   "execution_count": 34,
   "outputs": [
    {
     "name": "stdout",
     "output_type": "stream",
     "text": [
      "C:\\Users\\Flynn\\data\\lbm\\temp\\spon_6p45Hz_2mm_75pct_00001_00001_temp.h5\n",
      "File exists, continuing\n"
     ]
    }
   ],
   "source": [
    "import h5py\n",
    "import tables\n",
    "import os\n",
    "mov = movies_filenames[0]\n",
    "mov = str(mov)\n",
    "print(mov)\n",
    "# check that the file exists\n",
    "if not os.path.exists(mov):\n",
    "    raise ValueError('File does not exist')\n",
    "else:\n",
    "    print('File exists, continuing')\n",
    "with tables.open_file(mov, 'r') as f:\n",
    "    vol_array = f.root.vol.read()\n",
    "vols = cm.movie(vol_array.squeeze())"
   ],
   "metadata": {
    "collapsed": false,
    "ExecuteTime": {
     "end_time": "2023-09-09T04:32:55.675918600Z",
     "start_time": "2023-09-09T04:32:50.551870900Z"
    }
   }
  },
  {
   "cell_type": "code",
   "execution_count": null,
   "outputs": [],
   "source": [],
   "metadata": {
    "collapsed": false
   }
  }
 ],
 "metadata": {
  "kernelspec": {
   "display_name": "Python 3",
   "language": "python",
   "name": "python3"
  },
  "language_info": {
   "codemirror_mode": {
    "name": "ipython",
    "version": 2
   },
   "file_extension": ".py",
   "mimetype": "text/x-python",
   "name": "python",
   "nbconvert_exporter": "python",
   "pygments_lexer": "ipython2",
   "version": "2.7.6"
  }
 },
 "nbformat": 4,
 "nbformat_minor": 0
}
