{
 "cells": [
  {
   "cell_type": "markdown",
   "metadata": {
    "collapsed": false,
    "jupyter": {
     "outputs_hidden": false
    }
   },
   "source": [
    "# Light Beads Microscopy (LBM) Processing Pipeline\n",
    "\n",
    "A python implementation of an analytical pipeline for LBM data. This makes use of the following python libraries (with their own dependencies):\n",
    "\n",
    "- [suite2p](https://www.biorxiv.org/content/10.1101/061507v2.full.pdf)\n",
    "- [CaImAn](https://github.com/flatironinstitute/CaImAn/tree/main)\n",
    "\n",
    "Some challanges I see considering the nature of the data:\n",
    "- Scalability: These are very large file sizes, memory usage and performance are both a concern\n",
    "\n",
    "\n",
    "#### Recording parameters:\n",
    "- 2 x 2 mm FOV\n",
    "- 6.45 Hz volume rate\n",
    "- 30 planes\n",
    "- 75% power, 250 mW\n",
    "\n",
    "\n",
    "Several libraries can be used to load `.tif` files.\n",
    "I will use [ScanImageTiffReader](https://vidriotech.gitlab.io/scanimagetiffreader-python/) because it is the utility chosen by [suite2p](https://github.com/MouseLand/suite2p).\n",
    "However, this is mesoscopic data with multiple axial planes, which the current python ecosystem does not handle well.\n",
    "We can handle that."
   ]
  },
  {
   "cell_type": "code",
   "execution_count": 8,
   "metadata": {
    "collapsed": false,
    "jupyter": {
     "outputs_hidden": false
    },
    "ExecuteTime": {
     "end_time": "2023-08-26T23:14:09.815455100Z",
     "start_time": "2023-08-26T23:14:09.280612800Z"
    }
   },
   "outputs": [],
   "source": [
    "from pathlib import Path  # useful for cross-platform compatibility and path manipulationimport\n",
    "import ScanImageTiffReader\n",
    "import re\n",
    "import json\n",
    "\n",
    "path = Path(r\"C:\\Users\\Flynn\\Dropbox\\RBO\\LBM-sample\\spon_6p45Hz_2mm_75pct_00001_00001.tif\")\n",
    "reader = ScanImageTiffReader.ScanImageTiffReader(str(path))\n",
    "metadata_str = reader.metadata()\n",
    "data = reader.data()"
   ]
  },
  {
   "cell_type": "markdown",
   "metadata": {
    "collapsed": false,
    "jupyter": {
     "outputs_hidden": false
    }
   },
   "source": [
    "## Metadata Parsing\n",
    "\n",
    "You'll notice the metadata is a string separated by newline chars. We can't deserialize the json portion until all of the `SI` metadata groups are separated, so we have a valid json string."
   ]
  },
  {
   "cell_type": "code",
   "execution_count": 9,
   "metadata": {
    "collapsed": false,
    "jupyter": {
     "outputs_hidden": false
    },
    "ExecuteTime": {
     "end_time": "2023-08-26T23:14:11.101885100Z",
     "start_time": "2023-08-26T23:14:11.089856600Z"
    }
   },
   "outputs": [],
   "source": [
    "def parse_value(value_str):\n",
    "    \"\"\"\n",
    "    Parse the output of the ScanImageTiffReader metadata parser.\n",
    "    Despite the documentation, the parser does not return a valid json string.\n",
    "    The function handles various types like strings, numbers, arrays, and special values.\n",
    "\n",
    "    Args:\n",
    "    value_str (str): The string representation of the value.\n",
    "\n",
    "    Returns:\n",
    "    Union[str, int, float, list, bool]: The parsed value in its appropriate data type.\n",
    "\n",
    "    Examples:\n",
    "    >>> parse_value(\"'Hello'\")\n",
    "    'Hello'\n",
    "    >>> parse_value(\"5.6\")\n",
    "    5.6\n",
    "    >>> parse_value(\"[1 2 3]\")\n",
    "    [1, 2, 3]\n",
    "    >>> parse_value(\"NaN\")\n",
    "    nan\n",
    "    \"\"\"\n",
    "    if value_str.startswith(\"'\") and value_str.endswith(\"'\"):\n",
    "        return value_str[1:-1]\n",
    "    if value_str == 'true':\n",
    "        return True\n",
    "    if value_str == 'false':\n",
    "        return False\n",
    "    if value_str == 'NaN':\n",
    "        return float('nan')\n",
    "    if value_str == 'Inf':\n",
    "        return float('inf')\n",
    "    if re.match(r'^\\d+(\\.\\d+)?$', value_str):\n",
    "        return float(value_str) if '.' in value_str else int(value_str)\n",
    "    if re.match(r'^\\[(.*)\\]$', value_str):\n",
    "        return [parse_value(v.strip()) for v in value_str[1:-1].split()]\n",
    "    return value_str\n",
    "\n",
    "\n",
    "def parse_key_value(parse_line):\n",
    "    \"\"\"\n",
    "    Parse a line containing a key-value assignment to extract the key and its associated value.\n",
    "\n",
    "    Args:\n",
    "    parse_line (str): The string containing the key-value assignment.\n",
    "\n",
    "    Returns:\n",
    "    Tuple[str, Union[str, int, float, list, bool]]: A tuple containing the key and the parsed value.\n",
    "\n",
    "    Examples:\n",
    "    >>> parse_key_value(\"SI.VERSION = '2018b'\")\n",
    "    ('SI.VERSION', '2018b')\n",
    "    >>> parse_key_value(\"SI.VALUE = 5.6\")\n",
    "    ('SI.VALUE', 5.6)\n",
    "    >>> parse_key_value(\"SI.ARRAY = [1 2 3]\")\n",
    "    ('SI.ARRAY', [1, 2, 3])\n",
    "    \"\"\"\n",
    "    key_str, value_str = parse_line.split(' = ', 1)\n",
    "    return key_str, parse_value(value_str)\n",
    "\n",
    "\n",
    "lines = metadata_str.split('\\n')\n",
    "metadata_dict = {}\n",
    "json_portion = []\n",
    "parsing_json = False\n",
    "for line in lines:\n",
    "    line = line.strip()\n",
    "    if not line:\n",
    "        continue\n",
    "    if line.startswith('SI.'):\n",
    "        key, value = parse_key_value(line)\n",
    "        metadata_dict[key] = value\n",
    "    elif line.startswith('{'):\n",
    "        parsing_json = True\n",
    "    if parsing_json:\n",
    "        json_portion.append(line)\n",
    "\n",
    "metadata_json = json.loads('\\n'.join(json_portion))"
   ]
  },
  {
   "cell_type": "markdown",
   "source": [
    "#### Our data is three-dimensional: [ntz, ny, nx]\n",
    "Where:\n",
    "1) `ntz` (Time x Plane) Dimension:\n",
    "    - `nt` is the number of time points.\n",
    "    - `nz` is the number of planes.\n",
    "    - The ntz dimension spans through the time points sequentially for each plane.\n",
    "    - For `t=0`, you have data for all planes from `z=0` to `z=29`, same yields true for `t=1, t=2...t=n`.\n",
    "2) `ny` (Vertical) and `nx` (Horizontal) Dimensions:\n",
    "    - This represents the Field of View (FOV) in the corresponding direction.\n",
    "    - Given a 2 x 2 mm FOV, then each pixel in the ny dimension would correspond to 2 mm / `[ny or ny].size`.\n",
    "    - However, each `ny` is the vertical concatenation of all strips in the lateral FOV"
   ],
   "metadata": {
    "collapsed": false
   }
  },
  {
   "cell_type": "code",
   "execution_count": null,
   "metadata": {
    "collapsed": false,
    "jupyter": {
     "outputs_hidden": false
    }
   },
   "outputs": [],
   "source": [
    "# Extract the nz/nt given the number of planes\n",
    "num_planes = 30\n",
    "num_timepoints = data.shape[0] // num_planes\n",
    "reshaped_data = data.reshape(num_timepoints, num_planes, *data.shape[1:])\n",
    "# The last plane can be discarded\n",
    "valid_data = reshaped_data[:, :num_planes - 1, :, :]"
   ]
  },
  {
   "cell_type": "markdown",
   "source": [
    "New dimensions are now `[nt, nz, ny, nx]`\n",
    "..or [time, planes, height, width]\n",
    "The temporal interval between each time point can be determined using the volume rate (6.45 Hz).\n",
    "Each time point is separated by approximately 1/6.45 seconds."
   ],
   "metadata": {
    "collapsed": false
   }
  },
  {
   "cell_type": "code",
   "execution_count": 10,
   "outputs": [],
   "source": [
    "vol = metadata_dict[\"SI.hRoiManager.scanVolumeRate\"]"
   ],
   "metadata": {
    "collapsed": false,
    "ExecuteTime": {
     "end_time": "2023-08-26T23:37:20.710545700Z",
     "start_time": "2023-08-26T23:37:20.704519900Z"
    }
   }
  },
  {
   "cell_type": "code",
   "execution_count": null,
   "outputs": [],
   "source": [],
   "metadata": {
    "collapsed": false
   }
  }
 ],
 "metadata": {
  "kernelspec": {
   "display_name": "Python 3 (ipykernel)",
   "language": "python",
   "name": "python3"
  },
  "language_info": {
   "codemirror_mode": {
    "name": "ipython",
    "version": 3
   },
   "file_extension": ".py",
   "mimetype": "text/x-python",
   "name": "python",
   "nbconvert_exporter": "python",
   "pygments_lexer": "ipython3",
   "version": "3.10.8"
  }
 },
 "nbformat": 4,
 "nbformat_minor": 4
}
