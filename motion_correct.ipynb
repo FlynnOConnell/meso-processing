{
 "cells": [
  {
   "cell_type": "code",
   "execution_count": null,
   "id": "initial_id",
   "metadata": {
    "collapsed": true
   },
   "outputs": [],
   "source": [
    "import bokeh.plotting as bpl\n",
    "import holoviews as hv\n",
    "import logging\n",
    "import matplotlib.pyplot as plt\n",
    "import seaborn as sns\n",
    "\n",
    "import numpy as np\n",
    "\n",
    "import caiman as cm\n",
    "from caiman.source_extraction import cnmf as cnmf\n",
    "from caiman.motion_correction import MotionCorrect\n",
    "from caiman.utils.utils import download_demo\n",
    "from caiman.utils.visualization import nb_inspect_correlation_pnr\n",
    "\n",
    "from pathlib import Path\n",
    "logging.basicConfig(format=\n",
    "                    \"%(relativeCreated)12d [%(filename)s:%(funcName)10s():%(lineno)s] [%(process)d] %(message)s\",\n",
    "                    # filename=\"/tmp/caiman.log\",\n",
    "                    level=logging.WARNING)\n",
    "\n",
    "bpl.output_notebook()\n",
    "# hv.notebook_extension('bokeh')\n",
    "plt.rcParams['axes.facecolor'] = 'black'\n",
    "plt.rcParams['axes.edgecolor'] = 'white'\n",
    "plt.rcParams['axes.labelcolor'] = 'white'\n",
    "plt.rcParams['xtick.color'] = 'white'\n",
    "plt.rcParams['ytick.color'] = 'white'\n",
    "plt.rcParams['text.color'] = 'white'\n",
    "plt.rcParams['grid.color'] = 'grey'\n",
    "plt.rcParams['legend.edgecolor'] = 'white'\n",
    "plt.rcParams['legend.facecolor'] = 'black'\n",
    "\n",
    "sns.set(rc={'axes.facecolor': 'black', 'grid.color': 'grey'})\n",
    "\n",
    "def set_matplotlib_bg(bg='black'):\n",
    "    color = 'white' if bg == 'black' else 'black'\n",
    "    plt.rcParams['axes.facecolor'] = bg\n",
    "    plt.rcParams['axes.edgecolor'] = color\n",
    "    plt.rcParams['axes.labelcolor'] = color\n",
    "    plt.rcParams['xtick.color'] = color\n",
    "    plt.rcParams['ytick.color'] = color\n",
    "    plt.rcParams['text.color'] = color\n",
    "    plt.rcParams['grid.color'] = 'grey' if bg == 'black' else 'black'\n",
    "    plt.rcParams['legend.edgecolor'] = color\n",
    "    plt.rcParams['legend.facecolor'] = bg"
   ]
  },
  {
   "cell_type": "code",
   "execution_count": null,
   "outputs": [],
   "source": [
    "fnames = [Path.home() / 'data' / 'ca' / 'Spatial_downsam.tiff']\n",
    "m_orig = cm.load_movie_chain(fnames)"
   ],
   "metadata": {
    "collapsed": false
   },
   "id": "bc31bf29298abab3"
  }
 ],
 "metadata": {
  "kernelspec": {
   "display_name": "Python 3",
   "language": "python",
   "name": "python3"
  },
  "language_info": {
   "codemirror_mode": {
    "name": "ipython",
    "version": 2
   },
   "file_extension": ".py",
   "mimetype": "text/x-python",
   "name": "python",
   "nbconvert_exporter": "python",
   "pygments_lexer": "ipython2",
   "version": "2.7.6"
  }
 },
 "nbformat": 4,
 "nbformat_minor": 5
}
